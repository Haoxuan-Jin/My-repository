{
 "cells": [
  {
   "cell_type": "code",
   "execution_count": 1,
   "metadata": {},
   "outputs": [],
   "source": [
    "import sevenbridges as sbg\n",
    "import argparse\n",
    "import os\n",
    "\n",
    "base_url = 'https://cavatica-api.sbgenomics.com/v2/'\n",
    "api = sbg.Api(url = base_url, token = os.environ['SB_AUTH_TOKEN'])\n",
    "\n",
    "project = 'kfdrc-harmonization/sd-bhjxbdqk-03'\n",
    "app = project + '/kf-alignment-fq-input-wf'"
   ]
  },
  {
   "cell_type": "code",
   "execution_count": 6,
   "metadata": {},
   "outputs": [],
   "source": [
    "app2 = api.apps.query(project=project)[0]"
   ]
  },
  {
   "cell_type": "code",
   "execution_count": 19,
   "metadata": {},
   "outputs": [
    {
     "data": {
      "text/plain": [
       "<function count>"
      ]
     },
     "execution_count": 19,
     "metadata": {},
     "output_type": "execute_result"
    }
   ],
   "source": [
    "app2."
   ]
  },
  {
   "cell_type": "code",
   "execution_count": 49,
   "metadata": {},
   "outputs": [],
   "source": [
    "f = open ('CBTTC.BSID.wgs.normal.txt')\n",
    "line = f.readline()\n",
    "line = line.split()"
   ]
  },
  {
   "cell_type": "code",
   "execution_count": 58,
   "metadata": {},
   "outputs": [
    {
     "name": "stdout",
     "output_type": "stream",
     "text": [
      "[<File: id=5b227bd4ec7054e1d5cacc6f>, <File: id=5b227bd4ec7054e1d5caccb4>, <File: id=5b227bd4ec7054e1d5cacc63>]\n"
     ]
    }
   ],
   "source": [
    "name = 'alignment-' + line[-1]\n",
    "inputs['files_R1'] = api.files.query(project=project, names=[line[0], line[2], line[4]])\n",
    "inputs['files_R2'] = api.files.query(project=project, names=[line[1], line[3], line[5]])\n",
    "print(list(inputs['files_R2']))"
   ]
  },
  {
   "cell_type": "code",
   "execution_count": 51,
   "metadata": {},
   "outputs": [],
   "source": [
    "inputs = {}\n",
    "inputs['contamination_sites_bed'] = api.files.query(project=project, names=[\"Homo_sapiens_assembly38.contam.bed\"])[0]\n",
    "inputs['contamination_sites_mu'] = api.files.query(project=project, names=[\"Homo_sapiens_assembly38.contam.mu\"])[0]\n",
    "inputs['contamination_sites_ud'] = api.files.query(project=project, names=[\"Homo_sapiens_assembly38.contam.UD\"])[0]\n",
    "inputs['dbsnp_vcf'] = api.files.query(project=project, names=[\"Homo_sapiens_assembly38.dbsnp138.vcf\"])[0]\n",
    "inputs['indexed_reference_fasta'] = api.files.query(project=project, names=[\"Homo_sapiens_assembly38.fasta\"])[0]"
   ]
  },
  {
   "cell_type": "code",
   "execution_count": 52,
   "metadata": {},
   "outputs": [
    {
     "data": {
      "text/plain": [
       "u'Homo_sapiens_assembly38.contam.UD'"
      ]
     },
     "execution_count": 52,
     "metadata": {},
     "output_type": "execute_result"
    }
   ],
   "source": [
    "inputs['contamination_sites_ud'].name"
   ]
  },
  {
   "cell_type": "code",
   "execution_count": 59,
   "metadata": {},
   "outputs": [],
   "source": [
    "inputs['knownsites'] = api.files.query(project=project, names=[\"1000G_omni2.5.hg38.vcf.gz\",\"1000G_phase1.snps.high_confidence.hg38.vcf.gz\",\"Homo_sapiens_assembly38.known_indels.vcf.gz\",\"Mills_and_1000G_gold_standard.indels.hg38.vcf.gz\"])\n",
    "inputs['reference_dict'] = api.files.query(project=project, names=[\"Homo_sapiens_assembly38.dict\"])[0]\n",
    "inputs['wgs_calling_interval_list'] = api.files.query(project=project, names=[\"wgs_calling_regions.hg38.interval_list\"])[0]\n",
    "inputs['wgs_coverage_interval_list'] = api.files.query(project=project, names=[\"wgs_coverage_regions.hg38.interval_list\"])[0]\n",
    "inputs['wgs_evaluation_interval_list'] = api.files.query(project=project, names=[\"wgs_evaluation_regions.hg38.interval_list\"])[0]\n",
    "inputs['output_basename'] = line[-1]\n",
    "inputs['rgs'] = [line[-1]]"
   ]
  },
  {
   "cell_type": "code",
   "execution_count": 60,
   "metadata": {},
   "outputs": [],
   "source": [
    "task = api.tasks.create(name='test', project=project, app=app, inputs=inputs, run=False)"
   ]
  },
  {
   "cell_type": "code",
   "execution_count": 63,
   "metadata": {},
   "outputs": [
    {
     "name": "stdout",
     "output_type": "stream",
     "text": [
      "1e642ed9-6954-4f29-a692-e99e54a13d6f\n"
     ]
    },
    {
     "data": {
      "text/plain": [
       "<Task: id=1e642ed9-6954-4f29-a692-e99e54a13d6f>"
      ]
     },
     "execution_count": 63,
     "metadata": {},
     "output_type": "execute_result"
    }
   ],
   "source": [
    "print(task.id)\n",
    "task.inputs['output_basename'] = task.id\n",
    "task.save()"
   ]
  },
  {
   "cell_type": "code",
   "execution_count": null,
   "metadata": {},
   "outputs": [],
   "source": []
  }
 ],
 "metadata": {
  "kernelspec": {
   "display_name": "Python 2",
   "language": "python",
   "name": "python2"
  },
  "language_info": {
   "codemirror_mode": {
    "name": "ipython",
    "version": 2
   },
   "file_extension": ".py",
   "mimetype": "text/x-python",
   "name": "python",
   "nbconvert_exporter": "python",
   "pygments_lexer": "ipython2",
   "version": "2.7.14"
  }
 },
 "nbformat": 4,
 "nbformat_minor": 2
}
