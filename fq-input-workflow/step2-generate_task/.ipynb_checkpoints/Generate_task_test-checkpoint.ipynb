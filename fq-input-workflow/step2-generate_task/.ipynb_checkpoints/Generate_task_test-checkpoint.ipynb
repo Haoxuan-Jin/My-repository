{
 "cells": [
  {
   "cell_type": "code",
   "execution_count": 1,
   "metadata": {},
   "outputs": [],
   "source": [
    "import sevenbridges as sbg\n",
    "import argparse\n",
    "import os\n",
    "\n",
    "base_url = 'https://cavatica-api.sbgenomics.com/v2/'\n",
    "api = sbg.Api(url = base_url, token = os.environ['SB_AUTH_TOKEN'])\n",
    "\n",
    "project = 'kfdrc-harmonization/sd-bhjxbdqk-03'\n",
    "app = project + '/kf-alignment-fq-input-wf'"
   ]
  },
  {
   "cell_type": "code",
   "execution_count": 6,
   "metadata": {},
   "outputs": [],
   "source": [
    "app2 = api.apps.query(project=project)[0]"
   ]
  },
  {
   "cell_type": "code",
   "execution_count": 19,
   "metadata": {},
   "outputs": [
    {
     "data": {
      "text/plain": [
       "<function count>"
      ]
     },
     "execution_count": 19,
     "metadata": {},
     "output_type": "execute_result"
    }
   ],
   "source": [
    "app2."
   ]
  },
  {
   "cell_type": "code",
   "execution_count": 29,
   "metadata": {},
   "outputs": [],
   "source": [
    "f = open ('CBTTC.BSID.wgs.normal.txt')\n",
    "line = f.readline()\n",
    "line = line.split()"
   ]
  },
  {
   "cell_type": "code",
   "execution_count": 34,
   "metadata": {},
   "outputs": [],
   "source": [
    "name = 'alignment-' + line[-1]\n",
    "inputs['files_R1'] = api.files.query(project=project, names=[line[0], line[2], line[4]])\n",
    "inputs['files_R2'] = api.files.query(project=project, names=[line[1], line[3], line[5]])"
   ]
  },
  {
   "cell_type": "code",
   "execution_count": 20,
   "metadata": {},
   "outputs": [],
   "source": [
    "inputs = {}\n",
    "inputs['contamination_sites_bed'] = api.files.query(project=project, names=[\"Homo_sapiens_assembly38.contam.bed\"])[0]\n",
    "inputs['contamination_sites_mu'] = api.files.query(project=project, names=[\"Homo_sapiens_assembly38.contam.mu\"])[0]\n",
    "inputs['contamination_sites_ud'] = api.files.query(project=project, names=[\"Homo_sapiens_assembly38.contam.UD\"])[0]\n",
    "inputs['dbsnp_vcf'] = api.files.query(project=project, names=[\"Homo_sapiens_assembly38.dbsnp138.vcf\"])[0]\n",
    "inputs['indexed_reference_fasta'] = api.files.query(project=project, names=[\"Homo_sapiens_assembly38.fasta\"])[0]"
   ]
  },
  {
   "cell_type": "code",
   "execution_count": 23,
   "metadata": {},
   "outputs": [
    {
     "data": {
      "text/plain": [
       "u'Homo_sapiens_assembly38.contam.UD'"
      ]
     },
     "execution_count": 23,
     "metadata": {},
     "output_type": "execute_result"
    }
   ],
   "source": [
    "inputs['contamination_sites_ud'].name"
   ]
  },
  {
   "cell_type": "code",
   "execution_count": 40,
   "metadata": {},
   "outputs": [],
   "source": [
    "inputs['knownsites'] = api.files.query(project=project, names=[\"1000G_omni2.5.hg38.vcf.gz\",\"1000G_phase1.snps.high_confidence.hg38.vcf.gz\",\"Homo_sapiens_assembly38.known_indels.vcf.gz\",\"Mills_and_1000G_gold_standard.indels.hg38.vcf.gz\"])\n",
    "inputs['reference_dict'] = api.files.query(project=project, names=[\"Homo_sapiens_assembly38.dict\"])[0]\n",
    "inputs['wgs_calling_interval_list'] = api.files.query(project=project, names=[\"wgs_calling_regions.hg38.interval_list\"])[0]\n",
    "inputs['wgs_coverage_interval_list'] = api.files.query(project=project, names=[\"wgs_coverage_regions.hg38.interval_list\"])[0]\n",
    "inputs['wgs_evaluation_interval_list'] = api.files.query(project=project, names=[\"wgs_evaluation_regions.hg38.interval_list\"])[0]\n",
    "# inputs['output_basename'] = line[-1]\n",
    "# inputs['rgs'] = line[-1]"
   ]
  },
  {
   "cell_type": "code",
   "execution_count": 41,
   "metadata": {},
   "outputs": [
    {
     "ename": "BadRequest",
     "evalue": "Bad Request.",
     "output_type": "error",
     "traceback": [
      "\u001b[0;31m---------------------------------------------------------------------------\u001b[0m",
      "\u001b[0;31mBadRequest\u001b[0m                                Traceback (most recent call last)",
      "\u001b[0;32m<ipython-input-41-3062ead7f812>\u001b[0m in \u001b[0;36m<module>\u001b[0;34m()\u001b[0m\n\u001b[0;32m----> 1\u001b[0;31m \u001b[0mtask\u001b[0m \u001b[0;34m=\u001b[0m \u001b[0mapi\u001b[0m\u001b[0;34m.\u001b[0m\u001b[0mtasks\u001b[0m\u001b[0;34m.\u001b[0m\u001b[0mcreate\u001b[0m\u001b[0;34m(\u001b[0m\u001b[0mname\u001b[0m\u001b[0;34m=\u001b[0m\u001b[0;34m'test'\u001b[0m\u001b[0;34m,\u001b[0m \u001b[0mproject\u001b[0m\u001b[0;34m=\u001b[0m\u001b[0mproject\u001b[0m\u001b[0;34m,\u001b[0m \u001b[0mapp\u001b[0m\u001b[0;34m=\u001b[0m\u001b[0mapp\u001b[0m\u001b[0;34m,\u001b[0m \u001b[0minputs\u001b[0m\u001b[0;34m=\u001b[0m\u001b[0minputs\u001b[0m\u001b[0;34m,\u001b[0m \u001b[0mrun\u001b[0m\u001b[0;34m=\u001b[0m\u001b[0mFalse\u001b[0m\u001b[0;34m)\u001b[0m\u001b[0;34m\u001b[0m\u001b[0m\n\u001b[0m",
      "\u001b[0;32m/usr/local/lib/python2.7/site-packages/sevenbridges/models/task.pyc\u001b[0m in \u001b[0;36mcreate\u001b[0;34m(cls, name, project, app, revision, batch_input, batch_by, inputs, description, run, disable_batch, interruptible, api)\u001b[0m\n\u001b[1;32m    189\u001b[0m         \u001b[0mapi\u001b[0m \u001b[0;34m=\u001b[0m \u001b[0mapi\u001b[0m \u001b[0;32mif\u001b[0m \u001b[0mapi\u001b[0m \u001b[0;32melse\u001b[0m \u001b[0mcls\u001b[0m\u001b[0;34m.\u001b[0m\u001b[0m_API\u001b[0m\u001b[0;34m\u001b[0m\u001b[0m\n\u001b[1;32m    190\u001b[0m         created_task = api.post(cls._URL['query'], data=task_data,\n\u001b[0;32m--> 191\u001b[0;31m                                 params=params).json()\n\u001b[0m\u001b[1;32m    192\u001b[0m         \u001b[0;32mif\u001b[0m \u001b[0mrun\u001b[0m \u001b[0;32mand\u001b[0m \u001b[0;34m'errors'\u001b[0m \u001b[0;32min\u001b[0m \u001b[0mcreated_task\u001b[0m\u001b[0;34m:\u001b[0m\u001b[0;34m\u001b[0m\u001b[0m\n\u001b[1;32m    193\u001b[0m             \u001b[0;32mif\u001b[0m \u001b[0mbool\u001b[0m\u001b[0;34m(\u001b[0m\u001b[0mcreated_task\u001b[0m\u001b[0;34m[\u001b[0m\u001b[0;34m'errors'\u001b[0m\u001b[0;34m]\u001b[0m\u001b[0;34m)\u001b[0m\u001b[0;34m:\u001b[0m\u001b[0;34m\u001b[0m\u001b[0m\n",
      "\u001b[0;32m/usr/local/lib/python2.7/site-packages/sevenbridges/http/client.pyc\u001b[0m in \u001b[0;36mpost\u001b[0;34m(self, url, headers, params, data, append_base)\u001b[0m\n\u001b[1;32m    224\u001b[0m              append_base=True):\n\u001b[1;32m    225\u001b[0m         return self._request('POST', url=url, headers=headers, params=params,\n\u001b[0;32m--> 226\u001b[0;31m                              data=data, append_base=append_base)\n\u001b[0m\u001b[1;32m    227\u001b[0m \u001b[0;34m\u001b[0m\u001b[0m\n\u001b[1;32m    228\u001b[0m     \u001b[0;32mdef\u001b[0m \u001b[0mput\u001b[0m\u001b[0;34m(\u001b[0m\u001b[0mself\u001b[0m\u001b[0;34m,\u001b[0m \u001b[0murl\u001b[0m\u001b[0;34m,\u001b[0m \u001b[0mheaders\u001b[0m\u001b[0;34m=\u001b[0m\u001b[0mNone\u001b[0m\u001b[0;34m,\u001b[0m \u001b[0mparams\u001b[0m\u001b[0;34m=\u001b[0m\u001b[0mNone\u001b[0m\u001b[0;34m,\u001b[0m \u001b[0mdata\u001b[0m\u001b[0;34m=\u001b[0m\u001b[0mNone\u001b[0m\u001b[0;34m,\u001b[0m \u001b[0mappend_base\u001b[0m\u001b[0;34m=\u001b[0m\u001b[0mTrue\u001b[0m\u001b[0;34m)\u001b[0m\u001b[0;34m:\u001b[0m\u001b[0;34m\u001b[0m\u001b[0m\n",
      "\u001b[0;32m/usr/local/lib/python2.7/site-packages/sevenbridges/decorators.pyc\u001b[0m in \u001b[0;36mwrapper\u001b[0;34m(*args, **kwargs)\u001b[0m\n\u001b[1;32m    132\u001b[0m             \u001b[0;32mif\u001b[0m \u001b[0;34m'more_info'\u001b[0m \u001b[0;32min\u001b[0m \u001b[0mdata\u001b[0m\u001b[0;34m:\u001b[0m\u001b[0;34m\u001b[0m\u001b[0m\n\u001b[1;32m    133\u001b[0m                 \u001b[0me\u001b[0m\u001b[0;34m.\u001b[0m\u001b[0mmore_info\u001b[0m \u001b[0;34m=\u001b[0m \u001b[0mdata\u001b[0m\u001b[0;34m[\u001b[0m\u001b[0;34m'more_info'\u001b[0m\u001b[0;34m]\u001b[0m\u001b[0;34m\u001b[0m\u001b[0m\n\u001b[0;32m--> 134\u001b[0;31m             \u001b[0;32mraise\u001b[0m \u001b[0me\u001b[0m\u001b[0;34m\u001b[0m\u001b[0m\n\u001b[0m\u001b[1;32m    135\u001b[0m         \u001b[0;32mexcept\u001b[0m \u001b[0mrequests\u001b[0m\u001b[0;34m.\u001b[0m\u001b[0mRequestException\u001b[0m \u001b[0;32mas\u001b[0m \u001b[0me\u001b[0m\u001b[0;34m:\u001b[0m\u001b[0;34m\u001b[0m\u001b[0m\n\u001b[1;32m    136\u001b[0m             \u001b[0;32mraise\u001b[0m \u001b[0mSbgError\u001b[0m\u001b[0;34m(\u001b[0m\u001b[0mmessage\u001b[0m\u001b[0;34m=\u001b[0m\u001b[0msix\u001b[0m\u001b[0;34m.\u001b[0m\u001b[0mtext_type\u001b[0m\u001b[0;34m(\u001b[0m\u001b[0me\u001b[0m\u001b[0;34m)\u001b[0m\u001b[0;34m)\u001b[0m\u001b[0;34m\u001b[0m\u001b[0m\n",
      "\u001b[0;31mBadRequest\u001b[0m: Bad Request."
     ]
    }
   ],
   "source": [
    "task = api.tasks.create(name='test', project=project, app=app, inputs=inputs, run=False)"
   ]
  },
  {
   "cell_type": "code",
   "execution_count": 27,
   "metadata": {},
   "outputs": [],
   "source": [
    "task.id\n",
    "task.inputs['output_basename'] = task.id"
   ]
  },
  {
   "cell_type": "code",
   "execution_count": null,
   "metadata": {},
   "outputs": [],
   "source": []
  }
 ],
 "metadata": {
  "kernelspec": {
   "display_name": "Python 2",
   "language": "python",
   "name": "python2"
  },
  "language_info": {
   "codemirror_mode": {
    "name": "ipython",
    "version": 2
   },
   "file_extension": ".py",
   "mimetype": "text/x-python",
   "name": "python",
   "nbconvert_exporter": "python",
   "pygments_lexer": "ipython2",
   "version": "2.7.14"
  }
 },
 "nbformat": 4,
 "nbformat_minor": 2
}
